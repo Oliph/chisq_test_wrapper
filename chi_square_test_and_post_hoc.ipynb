{
 "cells": [
  {
   "cell_type": "markdown",
   "metadata": {},
   "source": [
    "# $\\chi^2$ test in python including post-hoc and multiple comparisons correction"
   ]
  },
  {
   "cell_type": "markdown",
   "metadata": {},
   "source": [
    "Author: Moran Neuhof, Feb 2018"
   ]
  },
  {
   "cell_type": "markdown",
   "metadata": {},
   "source": [
    "This notebook accompanies the blog post I wrote, [Chi-square and post-hoc test in python - the easy way](https://neuhofmo.github.io/chi-square-and-post-hoc-in-python/), dealing with chi-square post-hoc tests.\n",
    "The functions are also available as a module on the [chisq_test_wrapper repository](https://github.com/neuhofmo/chisq_test_wrapper/blob/master/chisq_test_wrapper.py)"
   ]
  },
  {
   "cell_type": "code",
   "execution_count": 1,
   "metadata": {},
   "outputs": [],
   "source": [
    "# imports\n",
    "import pandas as pd\n",
    "\n",
    "from scipy.stats import chi2_contingency\n",
    "from statsmodels.sandbox.stats.multicomp import multipletests # for multiple comparisons correction\n",
    "from itertools import combinations  # for post-hoc tests"
   ]
  },
  {
   "cell_type": "code",
   "execution_count": 2,
   "metadata": {},
   "outputs": [],
   "source": [
    "# assists in displaying significance\n",
    "def get_asterisks_for_pval(p_val, alpha=0.05):\n",
    "    \"\"\"Receives the p-value and returns asterisks string.\"\"\"\n",
    "    if p_val > alpha:  # bigger than alpha\n",
    "        p_text = \"ns\"\n",
    "    # following the standards in biological publications\n",
    "    elif p_val < 1e-4:  \n",
    "        p_text = '****'\n",
    "    elif p_val < 1e-3:\n",
    "        p_text = '***'\n",
    "    elif p_val < 1e-2:\n",
    "        p_text = '**'\n",
    "    else:\n",
    "        p_text = '*'\n",
    "    \n",
    "    return p_text  # string of asterisks"
   ]
  },
  {
   "cell_type": "code",
   "execution_count": 3,
   "metadata": {},
   "outputs": [],
   "source": [
    "def run_chisq_on_combination(df, combinations_tuple):\n",
    "    \"\"\"Receives a dataframe and a combinations tuple and returns p-value after performing chisq test.\"\"\"\n",
    "    assert len(combinations_tuple) == 2, \"Combinations tuple is too long! Should be of size 2.\"\n",
    "    new_df = df[(df.index == combinations_tuple[0]) | (df.index == combinations_tuple[1])]\n",
    "    chi2, p, dof, ex = chi2_contingency(new_df, correction=True)\n",
    "    return p\n",
    "\n",
    "\n",
    "def chisq_and_posthoc_corrected(df, correction_method='fdr_bh', alpha=0.05):\n",
    "    \"\"\"Receives a dataframe and performs chi2 test and then post hoc.\n",
    "    Prints the p-values and corrected p-values (after FDR correction).\n",
    "    alpha: optional threshold for rejection (default: 0.05)\n",
    "    correction_method: method used for mutiple comparisons correction. (default: 'fdr_bh').\n",
    "    See statsmodels.sandbox.stats.multicomp.multipletests for elaboration.\"\"\"\n",
    "\n",
    "    # start by running chi2 test on the matrix\n",
    "    chi2, p, dof, ex = chi2_contingency(df, correction=True)\n",
    "    print(\"Chi2 result of the contingency table: {}, p-value: {}\\n\".format(chi2, p))\n",
    "    \n",
    "    # post-hoc test\n",
    "    all_combinations = list(combinations(df.index, 2))  # gathering all combinations for post-hoc chi2\n",
    "    print(\"Post-hoc chi2 tests results:\")\n",
    "    p_vals = [run_chisq_on_combination(df, comb) for comb in all_combinations]  # a list of all p-values\n",
    "    # the list is in the same order of all_combinations\n",
    "\n",
    "    # correction for multiple testing\n",
    "    reject_list, corrected_p_vals = multipletests(p_vals, method=correction_method, alpha=alpha)[:2]\n",
    "    for p_val, corr_p_val, reject, comb in zip(p_vals, corrected_p_vals, reject_list, all_combinations):\n",
    "        print(\"{}: p_value: {:5f}; corrected: {:5f} ({}) reject: {}\".format(comb, p_val, corr_p_val, get_asterisks_for_pval(p_val, alpha), reject))\n"
   ]
  },
  {
   "cell_type": "markdown",
   "metadata": {},
   "source": [
    "### Demonstrating on sample data:"
   ]
  },
  {
   "cell_type": "code",
   "execution_count": 4,
   "metadata": {},
   "outputs": [],
   "source": [
    "# loading the file from excel\n",
    "df = pd.read_excel(\"groups_sum_demo.xlsx\", index_col='Cell_line')"
   ]
  },
  {
   "cell_type": "code",
   "execution_count": 5,
   "metadata": {},
   "outputs": [
    {
     "name": "stdout",
     "output_type": "stream",
     "text": [
      "Chi2 result of the contingency table: 1095.406615116616, p-value: 3.761331610902334e-231\n",
      "\n",
      "Post-hoc chi2 tests results:\n",
      "('Control', 'Patient1'): p_value: 0.000101; corrected: 0.000168 (***) reject: True\n",
      "('Control', 'Patient2'): p_value: 0.003231; corrected: 0.004615 (**) reject: True\n",
      "('Control', 'Patient3'): p_value: 0.000084; corrected: 0.000168 (****) reject: True\n",
      "('Control', 'Patient4'): p_value: 0.000000; corrected: 0.000000 (****) reject: True\n",
      "('Patient1', 'Patient2'): p_value: 0.955635; corrected: 0.955635 (ns) reject: False\n",
      "('Patient1', 'Patient3'): p_value: 0.034235; corrected: 0.042793 (*) reject: True\n",
      "('Patient1', 'Patient4'): p_value: 0.000000; corrected: 0.000000 (****) reject: True\n",
      "('Patient2', 'Patient3'): p_value: 0.158924; corrected: 0.176582 (ns) reject: False\n",
      "('Patient2', 'Patient4'): p_value: 0.000000; corrected: 0.000000 (****) reject: True\n",
      "('Patient3', 'Patient4'): p_value: 0.000000; corrected: 0.000000 (****) reject: True\n"
     ]
    }
   ],
   "source": [
    "chisq_and_posthoc_corrected(df)"
   ]
  },
  {
   "cell_type": "markdown",
   "metadata": {},
   "source": [
    "Please feel free to share, comment or distribute.\n",
    "\n",
    "-- Moran"
   ]
  }
 ],
 "metadata": {
  "kernelspec": {
   "display_name": "Python 3",
   "language": "python",
   "name": "python3"
  },
  "language_info": {
   "codemirror_mode": {
    "name": "ipython",
    "version": 3
   },
   "file_extension": ".py",
   "mimetype": "text/x-python",
   "name": "python",
   "nbconvert_exporter": "python",
   "pygments_lexer": "ipython3",
   "version": "3.6.3"
  }
 },
 "nbformat": 4,
 "nbformat_minor": 2
}
